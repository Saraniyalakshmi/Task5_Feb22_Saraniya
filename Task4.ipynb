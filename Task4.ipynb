{
 "cells": [
  {
   "cell_type": "code",
   "execution_count": 32,
   "metadata": {},
   "outputs": [
    {
     "name": "stdout",
     "output_type": "stream",
     "text": [
      "GUVI GEEKS NETWORK PRIVATE LIMITED\n",
      "Total number of a in the string: 1\n",
      "Total number of e in the string: 5\n",
      "Total number of i in the string: 4\n",
      "Total number of o in the string: 1\n",
      "Total number of u in the string: 1\n",
      "Total number of vowels in a string: 12\n"
     ]
    }
   ],
   "source": [
    "#1.Calculating vowels\n",
    "a=(\"GUVI GEEKS Network private limited\")\n",
    "b=a.lower()\n",
    "print(b.upper())\n",
    "count=0\n",
    "a_count=0\n",
    "e_count=0\n",
    "i_count=0\n",
    "o_count=0\n",
    "u_count=0\n",
    "\n",
    "list=['a','e','i','o','u']\n",
    "for c in b:\n",
    " if c in list:\n",
    "    count=count+1\n",
    " if c ==\"a\":\n",
    "      a_count=a_count+1   \n",
    " if c ==\"e\":\n",
    "      e_count=e_count+1\n",
    " if c ==\"i\":\n",
    "      i_count=i_count+1\n",
    " if c ==\"o\":\n",
    "      o_count=o_count+1\n",
    " if c ==\"u\":\n",
    "      u_count=u_count+1\n",
    "print(\"Total number of a in the string:\",a_count)\n",
    "print(\"Total number of e in the string:\",e_count)\n",
    "print(\"Total number of i in the string:\",i_count)\n",
    "print(\"Total number of o in the string:\",o_count)\n",
    "print(\"Total number of u in the string:\",u_count)\n",
    "print(\"Total number of vowels in a string:\",count)\n"
   ]
  },
  {
   "cell_type": "code",
   "execution_count": 10,
   "metadata": {},
   "outputs": [
    {
     "name": "stdout",
     "output_type": "stream",
     "text": [
      "                                        1 \n",
      "\n",
      "                                      1 2 1 \n",
      "\n",
      "                                    1 2 3 2 1 \n",
      "\n",
      "                                  1 2 3 4 3 2 1 \n",
      "\n",
      "                                1 2 3 4 5 4 3 2 1 \n",
      "\n",
      "                              1 2 3 4 5 6 5 4 3 2 1 \n",
      "\n",
      "                            1 2 3 4 5 6 7 6 5 4 3 2 1 \n",
      "\n",
      "                          1 2 3 4 5 6 7 8 7 6 5 4 3 2 1 \n",
      "\n",
      "                        1 2 3 4 5 6 7 8 9 8 7 6 5 4 3 2 1 \n",
      "\n",
      "                      1 2 3 4 5 6 7 8 9 10 9 8 7 6 5 4 3 2 1 \n",
      "\n",
      "                    1 2 3 4 5 6 7 8 9 10 11 10 9 8 7 6 5 4 3 2 1 \n",
      "\n",
      "                  1 2 3 4 5 6 7 8 9 10 11 12 11 10 9 8 7 6 5 4 3 2 1 \n",
      "\n",
      "                1 2 3 4 5 6 7 8 9 10 11 12 13 12 11 10 9 8 7 6 5 4 3 2 1 \n",
      "\n",
      "              1 2 3 4 5 6 7 8 9 10 11 12 13 14 13 12 11 10 9 8 7 6 5 4 3 2 1 \n",
      "\n",
      "            1 2 3 4 5 6 7 8 9 10 11 12 13 14 15 14 13 12 11 10 9 8 7 6 5 4 3 2 1 \n",
      "\n",
      "          1 2 3 4 5 6 7 8 9 10 11 12 13 14 15 16 15 14 13 12 11 10 9 8 7 6 5 4 3 2 1 \n",
      "\n",
      "        1 2 3 4 5 6 7 8 9 10 11 12 13 14 15 16 17 16 15 14 13 12 11 10 9 8 7 6 5 4 3 2 1 \n",
      "\n",
      "      1 2 3 4 5 6 7 8 9 10 11 12 13 14 15 16 17 18 17 16 15 14 13 12 11 10 9 8 7 6 5 4 3 2 1 \n",
      "\n",
      "    1 2 3 4 5 6 7 8 9 10 11 12 13 14 15 16 17 18 19 18 17 16 15 14 13 12 11 10 9 8 7 6 5 4 3 2 1 \n",
      "\n",
      "  1 2 3 4 5 6 7 8 9 10 11 12 13 14 15 16 17 18 19 20 19 18 17 16 15 14 13 12 11 10 9 8 7 6 5 4 3 2 1 \n",
      "\n"
     ]
    }
   ],
   "source": [
    "#2.Pyramid of numbers from 1 -20\n",
    "\n",
    "for i in range(1,21):\n",
    " for j in range(21-i):\n",
    "     print(\" \" ,end = \" \")\n",
    " for j in range(1,i):\n",
    "     print(j,end = \" \")\n",
    " for i in range(i,0,-1):\n",
    "     print(i,end = \" \")\n",
    " print(\"\\n\")\n"
   ]
  },
  {
   "cell_type": "code",
   "execution_count": 30,
   "metadata": {},
   "outputs": [
    {
     "name": "stdout",
     "output_type": "stream",
     "text": [
      "With Vowels: GUVI GEEKS NETWORK PRIVATE LIMITED\n",
      "Without Vowels: GV GKS NTWRK PRVT LMTD\n"
     ]
    }
   ],
   "source": [
    "#3.removing vowels\n",
    "a=(\"GUVI GEEKS Network private limited\")\n",
    "b=a.lower()\n",
    "print(\"With Vowels:\",b.upper())\n",
    "list=['a','e','i','o','u']\n",
    "for c in b:\n",
    " if c in list:\n",
    "    b=b.replace(c,\"\")\n",
    "print(\"Without Vowels:\",b.upper())"
   ]
  },
  {
   "cell_type": "code",
   "execution_count": 44,
   "metadata": {},
   "outputs": [
    {
     "name": "stdout",
     "output_type": "stream",
     "text": [
      "Y = 1 times\n",
      "o = 1 times\n",
      "u = 1 times\n",
      "a = 1 times\n",
      "r = 1 times\n",
      "e = 3 times\n",
      "b = 1 times\n",
      "l = 1 times\n",
      "e = 3 times\n",
      "s = 2 times\n",
      "s = 2 times\n",
      "e = 3 times\n",
      "d = 1 times\n",
      "alphabet count 13\n",
      "Digit count 3\n",
      "other characters count 16\n"
     ]
    }
   ],
   "source": [
    "#4.counting unique characters\n",
    "a=\"$$$$$ You are  blessed 123 $$$$$\"\n",
    "alpha_count=0\n",
    "c=0\n",
    "digit_count=0\n",
    "other_char_count=0\n",
    "for b in a:\n",
    "    if b.isalpha():\n",
    "     alpha_count=alpha_count+1\n",
    "     c=print(b,\"=\",a.count(b),\"times\")\n",
    "    elif b.isdigit():\n",
    "        digit_count=digit_count+1\n",
    "    else:\n",
    "        other_char_count=other_char_count+1\n",
    "print(\"alphabet count\",alpha_count)\n",
    "print(\"Digit count\",digit_count)\n",
    "print(\"other characters count\" , other_char_count)\n"
   ]
  },
  {
   "cell_type": "code",
   "execution_count": 1,
   "metadata": {},
   "outputs": [
    {
     "name": "stdout",
     "output_type": "stream",
     "text": [
      "mam  is a palindrome\n"
     ]
    }
   ],
   "source": [
    "#5.palindrome check\n",
    "a=input(\"Enter a string\")\n",
    "if a == a[:: -1]:\n",
    "    print(a ,\" is a palindrome\")\n",
    "else:\n",
    "    print(a,\" is not a palindrome\")\n"
   ]
  },
  {
   "cell_type": "code",
   "execution_count": 64,
   "metadata": {},
   "outputs": [
    {
     "name": "stdout",
     "output_type": "stream",
     "text": [
      "movie\n",
      "movie\n"
     ]
    }
   ],
   "source": [
    "#6.common substring\n",
    "from difflib import SequenceMatcher\n",
    "string1=\"Lets watch a movie\"\n",
    "string2=\"movie is terrific  \"\n",
    "match=SequenceMatcher(None,string1,string2).find_longest_match(0,len(string1),0,len(string2))\n",
    "#print(match)\n",
    "print(string1[match.a:match.a + match.size])\n",
    "print(string2[match.b:match.b + match.size])\n",
    "\n",
    "\n"
   ]
  },
  {
   "cell_type": "code",
   "execution_count": null,
   "metadata": {},
   "outputs": [
    {
     "name": "stdout",
     "output_type": "stream",
     "text": [
      "{'S': 1, 'a': 6, 'r': 1, 'n': 2, 'i': 3, 'y': 1, 'l': 2, 'k': 1, 's': 1, 'h': 1, 'm': 1, 'P': 1}\n",
      "Most frequent character in the string:  a\n"
     ]
    }
   ],
   "source": [
    "#7.finding Most frequent character \n",
    "\n",
    "s=\"SaraniyalakshmiPalani\"\n",
    "d={}\n",
    "for c in s:\n",
    "    if c not in d:\n",
    "        d[c]=1\n",
    "    else:\n",
    "        d[c]+=1\n",
    "print(d)\n",
    "print(\"Most frequent character in the string: \",max(d,key=d.get))"
   ]
  },
  {
   "cell_type": "code",
   "execution_count": 27,
   "metadata": {},
   "outputs": [
    {
     "name": "stdout",
     "output_type": "stream",
     "text": [
      "True: They are anagrams\n"
     ]
    }
   ],
   "source": [
    "#8.Anagaram\n",
    "s1=\"silent_life\"\n",
    "s2=\"listen_file\"\n",
    "if sorted (s1)==sorted(s2):\n",
    "    print(\"True: They are anagrams\")\n",
    "else:\n",
    "    print(\"False:They are not anagrams\")\n",
    "\n"
   ]
  },
  {
   "cell_type": "code",
   "execution_count": 52,
   "metadata": {},
   "outputs": [
    {
     "name": "stdout",
     "output_type": "stream",
     "text": [
      "You are the best\n",
      "Above String has 4 words\n"
     ]
    }
   ],
   "source": [
    "#9.Count of words\n",
    "s1=\"You are the best\"\n",
    "s2=s1.split()\n",
    "print(s1)\n",
    "print(\"Above String has\",len(s2),\"words\")\n",
    "\n",
    "\n"
   ]
  }
 ],
 "metadata": {
  "kernelspec": {
   "display_name": "Python 3",
   "language": "python",
   "name": "python3"
  },
  "language_info": {
   "codemirror_mode": {
    "name": "ipython",
    "version": 3
   },
   "file_extension": ".py",
   "mimetype": "text/x-python",
   "name": "python",
   "nbconvert_exporter": "python",
   "pygments_lexer": "ipython3",
   "version": "3.12.2"
  }
 },
 "nbformat": 4,
 "nbformat_minor": 2
}
